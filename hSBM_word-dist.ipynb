{
 "cells": [
  {
   "cell_type": "code",
   "execution_count": null,
   "metadata": {},
   "outputs": [],
   "source": [
    "import findspark\n",
    "findspark.init()\n",
    "import pyspark as spark\n",
    "from pyspark.sql.functions import udf, col\n",
    "import pyspark.sql.functions as F\n",
    "import os\n",
    "import numpy as np\n",
    "import pandas as pd\n",
    "import matplotlib.pyplot as plt\n",
    "import tensorflow as tf\n",
    "from hsbmpy import get_max_available_L\n",
    "from hsbmpy import get_file\n",
    "import tensorflow as tf"
   ]
  },
  {
   "cell_type": "code",
   "execution_count": null,
   "metadata": {},
   "outputs": [],
   "source": [
    "import importlib, geneontology\n",
    "from geneontology import *\n",
    "importlib.reload(geneontology)\n",
    "from geneontology import *"
   ]
  },
  {
   "cell_type": "code",
   "execution_count": null,
   "metadata": {},
   "outputs": [],
   "source": [
    "conf = spark.SparkConf().set('spark.driver.host','127.0.0.1')\n",
    "sc = spark.SparkContext(master='local', appName='hSBM_topic-dist',conf=conf)\n",
    "sql = spark.SQLContext(sc)"
   ]
  },
  {
   "cell_type": "code",
   "execution_count": null,
   "metadata": {},
   "outputs": [],
   "source": [
    "label='SMTS'\n",
    "labels = ['SMTS']\n",
    "#labels = ['primary_site', 'secondary_site']\n",
    "algorithm = 'topsbm'\n",
    "#labels = ['primary_site', 'secondary_site', 'status']\n",
    "#labels=['RPPA Clusters']\n",
    "directory = \"/home/fvalle/phd/datasets/cancers/lung/\"\n",
    "L=get_max_available_L(directory, algorithm)-1\n",
    "os.chdir(directory)"
   ]
  },
  {
   "cell_type": "code",
   "execution_count": null,
   "metadata": {},
   "outputs": [],
   "source": [
    "df_Pwt = sql.read.option('header',True).csv(\"%s/%s/%s_level_%d_word-dist.csv\"%(directory,algorithm,algorithm,L))"
   ]
  },
  {
   "cell_type": "code",
   "execution_count": null,
   "metadata": {},
   "outputs": [],
   "source": [
    "fig=plt.figure(figsize=(10,8))\n",
    "plt.title(\"\")\n",
    "for topic in df_Pwt.columns[:5]:\n",
    "    dist = df_Pwt.select([topic]).filter(F.col(topic)>1e-50).sort([topic], ascending=False).toPandas().astype(float).values\n",
    "    if len(dist)<2:\n",
    "        pass\n",
    "    plt.plot(np.sort(dist[dist>0].T)[::-1], marker='x', label=topic)\n",
    "plt.ylabel(\"$P(word | topic)$\", fontsize=20)\n",
    "plt.xlabel(\"words\", fontsize=20)\n",
    "plt.xscale('log')\n",
    "plt.yscale('log')\n",
    "plt.tick_params(labelsize=18)\n",
    "#plt.legend()\n",
    "plt.show()\n",
    "fig.savefig(\"p_w_tw_%s.pdf\"%algorithm)"
   ]
  },
  {
   "cell_type": "code",
   "execution_count": null,
   "metadata": {},
   "outputs": [],
   "source": [
    "df_Ptd = sql.read.option('header',True).csv(\"%s/%s/%s_level_%d_topic-dist.csv\"%(directory,algorithm,algorithm,L)).drop('i_doc')"
   ]
  },
  {
   "cell_type": "code",
   "execution_count": null,
   "metadata": {},
   "outputs": [],
   "source": [
    "fig=plt.figure(figsize=(20,10))\n",
    "plt.ylabel(\"$P(topic | sample$)\", fontsize=20)\n",
    "plt.xlabel(\"topics\", fontsize=20)\n",
    "for sample in df_Ptd.select('doc').toPandas().values[:10]:\n",
    "    plt.plot(df_Ptd.filter(F.col('doc')==sample[0]).drop('doc').toPandas().astype(float).values[0], marker='x')\n",
    "    #plt.plot(np.sort(df_Ptd.filter(F.col('doc')==sample[0]).drop('doc').toPandas().astype(float).values[0])[::-1], lw=0.1, marker='x')\n",
    "#plt.plot(np.logspace(0,2),1/np.logspace(0,2))\n",
    "#plt.xscale('log')\n",
    "#plt.yscale('log')\n",
    "plt.ylim(1e-2,1)\n",
    "plt.xlim(0,len(df_Ptd.columns)-2)\n",
    "plt.tick_params(labelsize=18)\n",
    "plt.show()\n",
    "fig.savefig(\"p_t_s_%s.pdf\"%algorithm)"
   ]
  },
  {
   "cell_type": "code",
   "execution_count": null,
   "metadata": {},
   "outputs": [],
   "source": [
    "df_mt = pd.read_csv(\"mainTable.csv\",index_col=0)\n",
    "df_files=pd.read_csv(\"files.dat\", index_col=0)\n",
    "df_mt=df_mt.reindex(index=df_Pwt.select('_c0').toPandas().values.ravel(),\n",
    "                    columns=[get_file(sample, df_files).name for sample in df_Ptd.select('doc').toPandas().values.ravel()])\n",
    "#df_mt.dropna(inplace=True)\n",
    "#df_mt=df_mt.where(df_mt<1e4,1e4)\n",
    "df_mt.head()"
   ]
  },
  {
   "cell_type": "code",
   "execution_count": null,
   "metadata": {},
   "outputs": [],
   "source": [
    "Pgt = tf.convert_to_tensor(df_Pwt.toPandas().set_index('_c0').astype(float).values)\n",
    "Pts = tf.transpose(tf.convert_to_tensor(df_Ptd.toPandas().set_index('doc').astype(float).values))\n",
    "Pgs = tf.matmul(Pgt,Pts)\n",
    "Ps = tf.convert_to_tensor(df_mt.sum(0).values)\n",
    "Ps = tf.divide(Ps, tf.reduce_sum(Ps))#normalize\n",
    "Pg = tf.squeeze(tf.matmul(Pgs, tf.reshape(Ps,[Ps.shape[0],1])))"
   ]
  },
  {
   "cell_type": "code",
   "execution_count": null,
   "metadata": {},
   "outputs": [],
   "source": [
    "print(Pgt.shape,Pts.shape,Pgs.shape,Pg.shape, Ps.shape)"
   ]
  },
  {
   "cell_type": "code",
   "execution_count": null,
   "metadata": {},
   "outputs": [],
   "source": [
    "Pgs_data = Pgs.numpy()\n",
    "Pg_data = Pg.numpy()\n",
    "Pgs_data.shape"
   ]
  },
  {
   "cell_type": "code",
   "execution_count": null,
   "metadata": {},
   "outputs": [],
   "source": [
    "df_Pgs = pd.DataFrame(data=Pgs_data, index=df_Pwt.toPandas().values.T[0], columns=df_Ptd.select(['doc']).toPandas().values.T[0])"
   ]
  },
  {
   "cell_type": "code",
   "execution_count": null,
   "metadata": {},
   "outputs": [],
   "source": [
    "A=df_mt.astype(int).sum(1).values"
   ]
  },
  {
   "cell_type": "code",
   "execution_count": null,
   "metadata": {},
   "outputs": [],
   "source": [
    "fig=plt.figure(figsize=(10,8))\n",
    "plt.plot(np.sort(A)[::-1]/A.sum(), lw=6, ls='-', label='data')\n",
    "plt.plot(np.sort(Pg_data)[::-1]/np.sum(Pg_data), lw=5, ls=':', label='P(w)')\n",
    "plt.ylabel(\"$P(word$)\", fontsize=20)\n",
    "plt.xlabel(\"words\", fontsize=20)\n",
    "plt.xscale('log')\n",
    "plt.yscale('log')\n",
    "plt.tick_params(labelsize=18)\n",
    "plt.legend(fontsize=18)\n",
    "plt.show()\n",
    "fig.savefig(\"p_w_%s.pdf\"%algorithm)"
   ]
  },
  {
   "cell_type": "code",
   "execution_count": null,
   "metadata": {},
   "outputs": [],
   "source": [
    "A_lda=Pg_data"
   ]
  },
  {
   "cell_type": "code",
   "execution_count": null,
   "metadata": {},
   "outputs": [],
   "source": [
    "fig=plt.figure(figsize=(10,8))\n",
    "plt.plot(np.sort(A)[::-1]/A.sum(), lw=7, ls='-', label='data')\n",
    "plt.plot(np.sort(A_lda)[::-1]/np.sum(A_lda), lw=6, ls='-.', c='orange', label='LDA')\n",
    "plt.plot(np.sort(Pg_data)[::-1]/np.sum(Pg_data), lw=4, ls='--', c='red', label='hsbm')\n",
    "plt.ylabel(\"$P(word$)\", fontsize=20)\n",
    "plt.xlabel(\"words\", fontsize=20)\n",
    "plt.xscale('log')\n",
    "plt.yscale('log')\n",
    "plt.tick_params(labelsize=18)\n",
    "plt.legend(fontsize=24)\n",
    "plt.show()\n",
    "fig.savefig(\"p_w.pdf\")"
   ]
  },
  {
   "cell_type": "code",
   "execution_count": null,
   "metadata": {},
   "outputs": [],
   "source": []
  }
 ],
 "metadata": {
  "kernelspec": {
   "display_name": "Python 3",
   "language": "python",
   "name": "python3"
  },
  "language_info": {
   "codemirror_mode": {
    "name": "ipython",
    "version": 3
   },
   "file_extension": ".py",
   "mimetype": "text/x-python",
   "name": "python",
   "nbconvert_exporter": "python",
   "pygments_lexer": "ipython3",
   "version": "3.6.10"
  }
 },
 "nbformat": 4,
 "nbformat_minor": 4
}
