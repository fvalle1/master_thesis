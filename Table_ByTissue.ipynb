{
 "cells": [
  {
   "cell_type": "code",
   "execution_count": null,
   "metadata": {},
   "outputs": [],
   "source": [
    "import pandas as pd\n",
    "import numpy as np\n",
    "import os\n",
    "from matplotlib import pyplot as plt\n",
    "import scipy.stats as st\n",
    "from scipy.stats import binned_statistic"
   ]
  },
  {
   "cell_type": "code",
   "execution_count": null,
   "metadata": {},
   "outputs": [],
   "source": [
    "working_dir = \"/Users/filippo/Developer/tesi\"\n",
    "os.chdir(working_dir)"
   ]
  },
  {
   "cell_type": "code",
   "execution_count": null,
   "metadata": {},
   "outputs": [],
   "source": [
    "normalisation_str='counts'"
   ]
  },
  {
   "cell_type": "code",
   "execution_count": null,
   "metadata": {},
   "outputs": [],
   "source": [
    "# TCGA\n",
    "common_tissues = ['Bronchus and lung', 'Brain', 'Breast', 'Ovary', 'Kidney', 'Colon', 'Corpus uteri','Adrenal gland','Skin']\n",
    "more_common_tissues = np.concatenate((common_tissues,['Blood','Heart, mediastinum, and pleura','Skin','Testis','Thyroid gland']))\n",
    "common_desease = ['Adenomas and Adenocarcinomas','Epithelial Neoplasms, NOS', 'Squamous Cell Neoplasms', 'Gliomas','Nevi and Melanomas','Cystic, Mucinous and Serous Neoplasms','Mature B-Cell Lymphomas','Thymic Epithelial Neoplasms','Paragangliomas and Glomus Tumors']"
   ]
  },
  {
   "cell_type": "code",
   "execution_count": null,
   "metadata": {},
   "outputs": [],
   "source": [
    "samples = pd.read_csv(\"files.dat\", index_col=[0])\n",
    "samples.head()"
   ]
  },
  {
   "cell_type": "code",
   "execution_count": null,
   "metadata": {},
   "outputs": [],
   "source": [
    "primaries = samples['primary_site'].unique()\n",
    "diseases = samples['disease_type'].unique()"
   ]
  },
  {
   "cell_type": "code",
   "execution_count": null,
   "metadata": {},
   "outputs": [],
   "source": [
    "np.sort(diseases)"
   ]
  },
  {
   "cell_type": "code",
   "execution_count": null,
   "metadata": {},
   "outputs": [],
   "source": [
    "# TCGA\n",
    "df = pd.read_csv((\"%s/mainTable.csv\"%working_dir), index_col=[0])\n",
    "df = df.to_sparse(fill_value=0.)"
   ]
  },
  {
   "cell_type": "markdown",
   "metadata": {},
   "source": [
    "## Tissue U"
   ]
  },
  {
   "cell_type": "code",
   "execution_count": null,
   "metadata": {},
   "outputs": [],
   "source": [
    "tissue = 'Brain'"
   ]
  },
  {
   "cell_type": "code",
   "execution_count": null,
   "metadata": {},
   "outputs": [],
   "source": [
    "sample_list = samples[samples['primary_site']==tissue].index.values\n",
    "subdf = df.loc[:,sample_list]"
   ]
  },
  {
   "cell_type": "code",
   "execution_count": null,
   "metadata": {},
   "outputs": [],
   "source": [
    "O = []\n",
    "for g in subdf.index.values:\n",
    "    o = len([fpkm for fpkm in subdf.loc[g].values if fpkm > 1e-1])\n",
    "    if o>1:\n",
    "        O.append(o)"
   ]
  },
  {
   "cell_type": "code",
   "execution_count": null,
   "metadata": {},
   "outputs": [],
   "source": [
    "bins = 20\n",
    "rang = (0-0.5/20,1+0.5/20)\n",
    "fig = plt.figure()\n",
    "plt.hist(np.array(O,dtype=float)/len(sample_list), histtype='step', lw=4, density=True, bins=bins, range=rang)\n",
    "plt.title(tissue, fontsize=18)\n",
    "plt.xlabel('$O_i$', fontsize=16)\n",
    "plt.ylabel('#')\n",
    "plt.show()\n",
    "fig.savefig(\"U_%s.png\"%tissue)"
   ]
  },
  {
   "cell_type": "code",
   "execution_count": null,
   "metadata": {},
   "outputs": [],
   "source": []
  },
  {
   "cell_type": "markdown",
   "metadata": {},
   "source": [
    "## average tissues"
   ]
  },
  {
   "cell_type": "code",
   "execution_count": null,
   "metadata": {},
   "outputs": [],
   "source": [
    "label = 'disease_type'\n",
    "df_tissue = pd.DataFrame(index=df.index)\n",
    "for tissue in samples[label].unique():\n",
    "    print(tissue)\n",
    "    subdf = df.loc[:,samples[samples[label]==tissue].index.values]\n",
    "    df_tissue.insert(0,tissue,subdf.mean(axis=1))\n",
    "df_tissue.to_csv(\"mainTable_%s.csv\"%label, index=True, header=True)"
   ]
  },
  {
   "cell_type": "code",
   "execution_count": null,
   "metadata": {},
   "outputs": [],
   "source": [
    "df_tissue = pd.read_csv(\"mainTable_%s.csv\"%label, index_col=[0])\n",
    "df_tissue.fillna(value=0.,inplace=True)\n",
    "df_tissue.head()"
   ]
  },
  {
   "cell_type": "code",
   "execution_count": null,
   "metadata": {},
   "outputs": [],
   "source": [
    "gene='ENSG00000198888'"
   ]
  },
  {
   "cell_type": "code",
   "execution_count": null,
   "metadata": {},
   "outputs": [],
   "source": [
    "data = np.array(df.loc[gene,:].values,dtype=float)\n",
    "x = np.linspace(0,data.max()+10)\n",
    "mu = np.average(data)\n",
    "var = np.var(data)\n",
    "a = mu*mu/var\n",
    "b = var/mu\n",
    "fig=plt.figure()\n",
    "ax=fig.subplots()\n",
    "ax.set_title('Expression across all tissues: %s'%gene, fontsize=18)\n",
    "plt.hist(data, histtype='step', lw=2,bins=x, label='gene', density=True)\n",
    "plt.plot(x, st.gamma.pdf(x/b, a,0,1)/b)\n",
    "ax.set_xlabel('%s'%normalisation_str,fontsize=16)\n",
    "ax.set_ylabel('#')\n",
    "#ax.set_xscale('log')\n",
    "#ax.set_yscale('log')\n",
    "ax.set_xlim(5e-2,data.max())\n",
    "plt.show()\n",
    "fig.savefig(\"plot/%s_%s_alltissues.png\"%(normalisation_str,gene))"
   ]
  },
  {
   "cell_type": "code",
   "execution_count": null,
   "metadata": {},
   "outputs": [],
   "source": [
    "fig=plt.figure(figsize=(25,20))\n",
    "N=len(common_tissues)\n",
    "axs=fig.subplots(3,N/3)\n",
    "for i,tissue in enumerate(common_tissues):\n",
    "    ax=axs[i/3][i%(N/3)]\n",
    "    ax.set_title('%s: %s'%(tissue,gene), fontsize=13)\n",
    "    sample_list = samples[samples['primary_site']==tissue].index.values\n",
    "    subdf = df.loc[gene,sample_list]\n",
    "    data = subdf.fillna(value=0.).values\n",
    "    #data = data * np.average(data) / np.var(data)\n",
    "    x = np.linspace(0,data.max()+10)\n",
    "    mu = np.average(data)\n",
    "    var = np.var(data)\n",
    "    a = mu*mu/var\n",
    "    b = var/mu\n",
    "    ax.hist(data,density=True,label=\"%s [%d]\"%(tissue, len(data)),histtype='step',lw=1.5)\n",
    "    ax.plot(x,st.gamma.pdf(x,a,0,b))\n",
    "    ax.set_xlim(xmax=data.max())\n",
    "    ax.set_xlabel('%s'%normalisation_str,fontsize=13)\n",
    "    ax.set_ylabel('#')\n",
    "    ax.set_xlim(5e-2,data.max())\n",
    "    ax.legend(fontsize=16)\n",
    "plt.show()\n",
    "fig.savefig(\"plot/%s_%s_per_tissue.png\"%(normalisation_str,gene))"
   ]
  },
  {
   "cell_type": "code",
   "execution_count": null,
   "metadata": {},
   "outputs": [],
   "source": [
    "fig=plt.figure()\n",
    "ax=fig.subplots()\n",
    "ax.set_title('Expression per tissue: %s'%gene, fontsize=18)\n",
    "data = np.array(df_tissue.loc[gene,:].values,dtype=float)\n",
    "x = np.linspace(0,data.max())\n",
    "mu = np.average(data)\n",
    "var = np.var(data)\n",
    "a = mu*mu/var\n",
    "b = var/mu\n",
    "plt.hist(data, histtype='step', lw=2, label='gene', density=True, bins=10)\n",
    "plt.plot(x, st.gamma.pdf(x/b,a)/b)\n",
    "ax.set_xlabel('%s'%normalisation_str,fontsize=16)\n",
    "ax.set_ylabel('#')\n",
    "#ax.set_xscale('log')\n",
    "#ax.set_yscale('log')\n",
    "plt.show()\n",
    "fig.savefig(\"plot/%s_%s_across_tissue.png\"%(normalisation_str,gene))"
   ]
  },
  {
   "cell_type": "code",
   "execution_count": null,
   "metadata": {},
   "outputs": [],
   "source": []
  },
  {
   "cell_type": "markdown",
   "metadata": {},
   "source": [
    "## integral"
   ]
  },
  {
   "cell_type": "code",
   "execution_count": null,
   "metadata": {},
   "outputs": [],
   "source": [
    "#TCGA\n",
    "def get_integral_tissue(tissue):\n",
    "    subdf = df_tissue.loc[:,tissue]\n",
    "    frac = []\n",
    "    try:\n",
    "        x = np.sort(subdf.values)[::-1]\n",
    "        norm = np.sum(x)\n",
    "        frac.append(np.cumsum(x/float(norm)))\n",
    "    except:\n",
    "        print(\"error with. %s\"%sample)\n",
    "    return np.average(frac, axis=0)"
   ]
  },
  {
   "cell_type": "code",
   "execution_count": null,
   "metadata": {},
   "outputs": [],
   "source": [
    "fig=plt.figure(figsize=(15,10))\n",
    "ax=fig.subplots()\n",
    "ax.set_title('%s sorted integral'%normalisation_str, fontsize=18)\n",
    "#for tissue in more_common_tissues:\n",
    "for tissue in common_desease:\n",
    "        print(tissue)\n",
    "        ax.plot(get_integral_tissue(tissue),label=tissue, lw=3)\n",
    "ax.set_xscale('log')\n",
    "ax.set_xlabel('Number of genes', fontsize=18)\n",
    "ax.set_ylabel('Fraction of total tissue expression', fontsize=18)\n",
    "ax.set_xlim((1,2e4))\n",
    "plt.legend(loc='upper left', ncol=2, fontsize=16)\n",
    "plt.show()\n",
    "fig.savefig(\"fraction_of_trascriptome.pdf\")"
   ]
  },
  {
   "cell_type": "markdown",
   "metadata": {},
   "source": [
    "## Mean Variance"
   ]
  },
  {
   "cell_type": "code",
   "execution_count": null,
   "metadata": {},
   "outputs": [],
   "source": [
    "tissue = 'Blood'\n",
    "subdf = df.loc[:,samples[samples['primary_site']==tissue].index.values]\n",
    "means = subdf.apply(np.nanmean, axis=1).dropna().values\n",
    "variances = subdf.apply(np.nanvar, axis=1).dropna().values\n",
    "distrs = subdf.sum(axis=0)"
   ]
  },
  {
   "cell_type": "code",
   "execution_count": null,
   "metadata": {},
   "outputs": [],
   "source": [
    "plt.hist(distrs)\n",
    "print(np.mean(distrs),np.var(distrs))"
   ]
  },
  {
   "cell_type": "code",
   "execution_count": null,
   "metadata": {},
   "outputs": [],
   "source": [
    "x_lin = np.logspace(np.log10(means[means.nonzero()].min()),np.log10(means[means.nonzero()].max()), dtype=float,num=50)\n",
    "fig=plt.figure(figsize=(15,4))\n",
    "plt.scatter(means, variances, c='b')\n",
    "plt.plot(x_lin[-40:],np.power(x_lin[-40:],2), 'g-', lw=3.5, label='$<%s>^2$'%normalisation_str)\n",
    "plt.plot(x_lin[:20],x_lin[:20], 'r-', lw=3.5, label='$<%s>$'%normalisation_str)\n",
    "\n",
    "plt.xlabel(\"$<%s>$\"%normalisation_str, fontsize=16)\n",
    "plt.ylabel(\"$\\sigma^2_{%s}$\"%normalisation_str, fontsize=16)\n",
    "plt.xscale('log')\n",
    "plt.yscale('log')\n",
    "plt.title(tissue,fontsize=18)\n",
    "plt.xlim(means[means.nonzero()].min()/5,np.power(10,np.log10(means.max())+1))\n",
    "plt.ylim((variances[variances.nonzero()].min()/10,np.power(10,np.log10(variances.max())+1)))\n",
    "plt.legend(fontsize=16)\n",
    "plt.show()\n",
    "fig.savefig(\"varmean_loglog_%s.png\"%tissue)"
   ]
  },
  {
   "cell_type": "code",
   "execution_count": null,
   "metadata": {},
   "outputs": [],
   "source": [
    "cv2 = [variances[i]/(np.power(mean,2)) for i,mean in enumerate(means) if mean>0]\n",
    "fig=plt.figure(figsize=(15,4))\n",
    "plt.scatter(means[means.nonzero()], cv2, c='b')\n",
    "plt.plot(x_lin[:30],1./x_lin[:30], 'g-', lw=3.5, label='Poisson')\n",
    "plt.plot(x_lin[-30:],[1 for _ in x_lin[-30:]], 'r-', lw=3.5, label='Taylor')\n",
    "plt.plot(x_lin,[len(subdf.columns)-1 for _ in x_lin], '--', lw=3.5, label='bound')\n",
    "\n",
    "bin_means, bin_edges,_=binned_statistic(means[means.nonzero()], cv2, statistic='mean', bins=np.logspace(np.log10(np.min(means[means.nonzero()])),np.log10(np.max(means))))\n",
    "\n",
    "plt.scatter((bin_edges[1:]+bin_edges[:-1])/2, bin_means, marker='x', lw=2, color='orange')\n",
    "\n",
    "plt.title(tissue,fontsize=18)\n",
    "plt.xlabel(\"$<%s>$\"%normalisation_str, fontsize=16)\n",
    "plt.ylabel(\"$cv^2$\", fontsize=16)\n",
    "plt.xscale('log')\n",
    "plt.yscale('log')\n",
    "plt.xlim(means[means.nonzero()].min()/5,np.power(10,np.log10(means.max())+1))\n",
    "plt.ylim(variances[variances.nonzero()].min()/10,len(subdf.columns)*10)\n",
    "plt.legend(fontsize=16)\n",
    "plt.show()\n",
    "fig.savefig(\"cvmean_loglog_%s.png\"%tissue)"
   ]
  },
  {
   "cell_type": "code",
   "execution_count": null,
   "metadata": {},
   "outputs": [],
   "source": []
  },
  {
   "cell_type": "markdown",
   "metadata": {},
   "source": [
    "## Lenght"
   ]
  },
  {
   "cell_type": "code",
   "execution_count": null,
   "metadata": {},
   "outputs": [],
   "source": [
    "q_many = pd.read_csv(\"genes.txt\", index_col=[0], header=[0])\n",
    "q_many = q_many[q_many['type_of_gene']=='protein-coding']\n",
    "lenghts = q_many['lenght']"
   ]
  },
  {
   "cell_type": "code",
   "execution_count": null,
   "metadata": {},
   "outputs": [],
   "source": [
    "from scipy.stats import binned_statistic\n",
    "fig=plt.figure(figsize=(15,7))\n",
    "means = subdf.mean(axis=1).values\n",
    "bin_means, bin_edges, _ = binned_statistic(lenghts, means, statistic='mean', bins=np.logspace(1,7,50))\n",
    "plt.scatter(lenghts,means)\n",
    "plt.scatter((bin_edges[1:]+bin_edges[:-1])/2., bin_means, marker='x')\n",
    "plt.title(tissue, fontsize=18)\n",
    "plt.yscale('log')\n",
    "plt.xscale('log')\n",
    "plt.xlabel('lenght (bp)', fontsize=16)\n",
    "plt.ylabel('mean (counts)', fontsize=16)\n",
    "plt.xlim((lenghts.min()/10,lenghts.max()*10))\n",
    "plt.ylim((means[means.nonzero()].min()/10,means.max()*10))\n",
    "plt.show()\n",
    "fig.savefig(\"meanLenght_%s.pdf\"%tissue)"
   ]
  },
  {
   "cell_type": "code",
   "execution_count": null,
   "metadata": {},
   "outputs": [],
   "source": []
  },
  {
   "cell_type": "markdown",
   "metadata": {},
   "source": [
    "## Zipf & Heaps"
   ]
  },
  {
   "cell_type": "markdown",
   "metadata": {},
   "source": [
    "## Zipf"
   ]
  },
  {
   "cell_type": "code",
   "execution_count": null,
   "metadata": {},
   "outputs": [],
   "source": [
    "variable_tissues = ['Breast','Blood','Brain', 'Adrenal gland']\n",
    "variable_tissues = ['Paragangliomas and Glomus Tumors','Adenomas and Adenocarcinomas','Nevi and Melanomas']"
   ]
  },
  {
   "cell_type": "code",
   "execution_count": null,
   "metadata": {},
   "outputs": [],
   "source": [
    "def get_zipf_tissue(tissue):\n",
    "    '''\n",
    "    return array zipf\n",
    "    '''\n",
    "    A = np.sort(df_tissue.loc[:,tissue].values)[::-1]\n",
    "    A /= np.sum(A)\n",
    "    return A"
   ]
  },
  {
   "cell_type": "code",
   "execution_count": null,
   "metadata": {},
   "outputs": [],
   "source": [
    "fig = plt.figure(figsize=(15,7))\n",
    "for tissue in variable_tissues:\n",
    "    plt.plot(get_zipf_tissue(tissue), lw=2, ls='-', label=tissue)\n",
    "plt.plot(np.arange(1,2e4), 1./np.arange(1,2e4), 'g--', label='$r^-1$')\n",
    "plt.yscale('log')\n",
    "plt.xscale('log')\n",
    "plt.xlabel('rank_i', fontsize=16)\n",
    "plt.ylabel('$f_i$', fontsize=16)\n",
    "plt.xlim(1,2e4)\n",
    "plt.ylim(2e-8,1e0)\n",
    "plt.legend(ncol=2, fontsize=14)\n",
    "plt.show()\n",
    "fig.savefig(\"Zipf_tissue.pdf\")"
   ]
  },
  {
   "cell_type": "markdown",
   "metadata": {},
   "source": [
    "## Heaps"
   ]
  },
  {
   "cell_type": "code",
   "execution_count": null,
   "metadata": {},
   "outputs": [],
   "source": [
    "def get_heaps_tissue(tissue, label='primary_site'):\n",
    "    subdf = df.loc[:,samples[samples[label]==tissue].index.values]\n",
    "    M = subdf.apply(lambda x: np.sum(x), axis=0).dropna().values\n",
    "    ndw = subdf.apply(lambda x: len(np.nonzero(x)[0]), axis=0).dropna().values\n",
    "    return M, ndw    "
   ]
  },
  {
   "cell_type": "code",
   "execution_count": null,
   "metadata": {},
   "outputs": [],
   "source": [
    "fig = plt.figure(figsize=(15,7))\n",
    "for tissue in variable_tissues:\n",
    "    heaps = get_heaps_tissue(tissue, label=label)\n",
    "    plt.scatter(heaps[0], heaps[1],  label=tissue)\n",
    "plt.xlabel('Sample size', fontsize=16)\n",
    "plt.ylabel('# of genes expressed', fontsize=16)\n",
    "plt.legend(ncol=4, fontsize=12)\n",
    "plt.xlim(1e6,1e8)\n",
    "plt.ylim(13e3,20e3)\n",
    "plt.show()\n",
    "fig.savefig(\"Heaps_tissue.pdf\")"
   ]
  },
  {
   "cell_type": "markdown",
   "metadata": {},
   "source": [
    "## global"
   ]
  },
  {
   "cell_type": "code",
   "execution_count": null,
   "metadata": {},
   "outputs": [],
   "source": [
    "fig=plt.figure(figsize=(30,15))\n",
    "ax = fig.subplots(1,3)\n",
    "colors = (['darksalmon','lawngreen', 'lightskyblue','pink'],['r','g','b','m'])\n",
    "for i,tissue in enumerate(variable_tissues):\n",
    "    ax[0].plot(get_integral_tissue(tissue), label=tissue, color=colors[0][i])\n",
    "    ax[1].plot(get_zipf_tissue(tissue), label=tissue,color=colors[0][i])\n",
    "    heaps = get_heaps_tissue(tissue, label)\n",
    "    ax[2].scatter(heaps[0],heaps[1], label=tissue, c=colors[0][i], alpha=0.2)\n",
    "    bin_means, bin_edges, _ = binned_statistic(heaps[0], heaps[1], bins = np.linspace(0.2e8,1.5e8))\n",
    "    ax[2].scatter((bin_edges[:-1]+bin_edges[1:])/2., bin_means, marker='x', c=colors[1][i], label='binned[%s]'%tissue)\n",
    "    \n",
    "ax[1].plot(np.arange(1,1e4), 1./np.arange(1,1e4), 'g--', label='$r^-1$')\n",
    "ax[0].set_xscale('log')\n",
    "ax[1].set_xscale('log')\n",
    "ax[1].set_yscale('log')\n",
    "ax[0].legend(fontsize=16)\n",
    "ax[1].legend(fontsize=16)\n",
    "ax[2].legend(fontsize=12, ncol=2)\n",
    "ax[0].set_xlabel('Number of genes', fontsize=16)\n",
    "ax[0].set_ylabel('Fraction of total tissue expression', fontsize=16)\n",
    "ax[1].set_xlabel('rank_i', fontsize=16)\n",
    "ax[1].set_ylabel('$f_i$', fontsize=16)\n",
    "ax[2].set_xlabel('Sample size', fontsize=16)\n",
    "ax[2].set_ylabel('# of genes expressed', fontsize=16)\n",
    "ax[2].set_xlim(0.05e8,1.5e8)\n",
    "ax[1].set_ylim(1e-6,1)\n",
    "plt.show()\n",
    "fig.savefig(\"zipffracheaps_tissue.pdf\")"
   ]
  },
  {
   "cell_type": "code",
   "execution_count": null,
   "metadata": {},
   "outputs": [],
   "source": []
  },
  {
   "cell_type": "markdown",
   "metadata": {},
   "source": [
    "# lenght"
   ]
  },
  {
   "cell_type": "code",
   "execution_count": null,
   "metadata": {},
   "outputs": [],
   "source": [
    "q_many = pd.read_csv(\"genes.txt\", index_col=[0], header=[0])\n",
    "q_many = q_many[q_many['type_of_gene']=='protein-coding']\n",
    "lenghts = q_many['lenght']"
   ]
  },
  {
   "cell_type": "code",
   "execution_count": null,
   "metadata": {},
   "outputs": [],
   "source": [
    "#from scipy.stats import binned_statistic\n",
    "fig=plt.figure(figsize=(15,7))\n",
    "bins_for_l = np.logspace(1,8,40)\n",
    "for tissue in primaries:\n",
    "    bin_means, bin_edges, _ = binned_statistic(lenghts, df_tissue.loc[:,tissue], statistic='mean', bins=bins_for_l)\n",
    "    #plt.scatter(lenghts,df_tissue.loc[:,tissue])\n",
    "    plt.scatter((bin_edges[1:]+bin_edges[:-1])/2,bin_means, marker='x',label=tissue)\n",
    "    plt.yscale('log')\n",
    "    plt.xscale('log')\n",
    "plt.xlabel('lenght (bp)', fontsize=16)\n",
    "plt.ylabel('mean (counts)', fontsize=16)\n",
    "plt.xlim((lenghts.min(),lenghts.max()))\n",
    "plt.ylim((1e-3,1e5))\n",
    "plt.legend(ncol=2)\n",
    "plt.show()\n",
    "fig.savefig(\"meanLenght_tissue.pdf\")"
   ]
  },
  {
   "cell_type": "code",
   "execution_count": null,
   "metadata": {},
   "outputs": [],
   "source": []
  },
  {
   "cell_type": "code",
   "execution_count": null,
   "metadata": {},
   "outputs": [],
   "source": []
  },
  {
   "cell_type": "markdown",
   "metadata": {},
   "source": [
    "## inter intra"
   ]
  },
  {
   "cell_type": "code",
   "execution_count": null,
   "metadata": {},
   "outputs": [],
   "source": [
    "inter_vars = df_tissue.apply(np.var, axis=1).values\n",
    "inter_means = df_tissue.apply(np.average, axis=1).values"
   ]
  },
  {
   "cell_type": "code",
   "execution_count": null,
   "metadata": {},
   "outputs": [],
   "source": [
    "inter_cv2s = [inter_vars[i]/(m*m) if m>0 else 0 for i,m in enumerate(inter_means)]"
   ]
  },
  {
   "cell_type": "code",
   "execution_count": null,
   "metadata": {},
   "outputs": [],
   "source": [
    "fig=plt.figure(figsize=(15,4))\n",
    "plt.scatter(inter_means, inter_cv2s, c='b')\n",
    "plt.plot(x_lin[:30],1./x_lin[:30], 'g-', lw=3.5, label='Poisson')\n",
    "plt.plot(x_lin[-30:],[1 for _ in x_lin[-30:]], 'r-', lw=3.5, label='Taylor')\n",
    "plt.plot(x_lin,[len(df_tissue.columns)-1 for _ in x_lin], '--', lw=3.5, label='bound')\n",
    "\n",
    "bin_means, bin_edges,_=binned_statistic(inter_means, inter_cv2s, statistic='mean', bins=np.logspace(np.log10(np.min(inter_means[inter_means.nonzero()])),np.log10(np.max(inter_means))))\n",
    "\n",
    "plt.scatter((bin_edges[1:]+bin_edges[:-1])/2, bin_means, marker='x', lw=2, color='orange')\n",
    "\n",
    "plt.title('inter_tissue',fontsize=18)\n",
    "plt.xlabel(\"$<%s>$\"%normalisation_str, fontsize=16)\n",
    "plt.ylabel(\"$cv^2$\", fontsize=16)\n",
    "plt.xscale('log')\n",
    "plt.yscale('log')\n",
    "plt.xlim(means[means.nonzero()].min()/5,np.power(10,np.log10(means.max())+1))\n",
    "plt.ylim(variances[variances.nonzero()].min()/10,len(subdf.columns)*10)\n",
    "plt.legend(fontsize=16)\n",
    "plt.show()\n",
    "fig.savefig(\"cvmean_loglog_inter_tissue.png\")"
   ]
  },
  {
   "cell_type": "code",
   "execution_count": null,
   "metadata": {},
   "outputs": [],
   "source": [
    "bin_means, bin_edges, binnumber = binned_statistic(inter_means, inter_cv2s, statistic='mean', bins=np.logspace(np.log10(np.min(inter_means[inter_means.nonzero()])),np.log10(np.max(inter_means))))\n",
    "\n",
    "def get_inter_distance_from_mean(mean, cv2):\n",
    "    bin_i = 0\n",
    "    for i,_ in enumerate(bin_edges[:-1]):\n",
    "        if mean<bin_edges[i+1] and mean > bin_edges[i]:\n",
    "            bin_i = i\n",
    "            break\n",
    "    return(cv2-bin_means[bin_i])"
   ]
  },
  {
   "cell_type": "code",
   "execution_count": null,
   "metadata": {},
   "outputs": [],
   "source": [
    "subdf = df.loc[:,samples[samples['primary_site']==tissue].index.values]\n",
    "intra_means = subdf.apply(np.nanmean, axis=1).values\n",
    "intra_variance = subdf.apply(np.nanvar, axis=1).values\n",
    "intra_cv2 = [intra_variance[i]/(np.power(mean,2)) if mean>0 else 0 for i,mean in enumerate(intra_means) ]\n",
    "\n",
    "bin_means_intra, bin_edges_intra, _ = binned_statistic(intra_means, intra_cv2, statistic='mean', bins=np.logspace(np.log10(np.min(intra_means[intra_means.nonzero()])),np.log10(np.max(intra_means))))\n",
    "\n",
    "def get_intra_distance_from_mean(mean, cv2):\n",
    "    bin_i = 0\n",
    "    for i,_ in enumerate(bin_edges[:-1]):\n",
    "        if mean<bin_edges_intra[i+1] and mean > bin_edges_intra[i]:\n",
    "            bin_i = i\n",
    "            break\n",
    "    return(cv2-bin_means_intra[bin_i])"
   ]
  },
  {
   "cell_type": "code",
   "execution_count": null,
   "metadata": {},
   "outputs": [],
   "source": [
    "inter = []\n",
    "intra = []\n",
    "for i,g in enumerate(df_tissue.index.values):\n",
    "    inter.append(get_inter_distance_from_mean(inter_means[i],inter_cv2s[i]))\n",
    "    intra.append(get_intra_distance_from_mean(intra_means[i], intra_cv2[i]))\n",
    "intra=np.array(intra)\n",
    "inter=np.array(inter)"
   ]
  },
  {
   "cell_type": "code",
   "execution_count": null,
   "metadata": {},
   "outputs": [],
   "source": [
    "x = np.logspace(np.log10(5e-1),20)\n",
    "fig = plt.figure()\n",
    "plt.scatter(inter, intra, label=tissue)\n",
    "#plt.plot(x,x)\n",
    "#plt.plot(x,np.sqrt(x))\n",
    "plt.xlabel('inter_(tissue+individual)')\n",
    "plt.ylabel('intra_%s'%tissue)\n",
    "#plt.yscale('log')\n",
    "#plt.xscale('log')\n",
    "plt.ylim(-50,150)\n",
    "plt.xlim(-50,35)\n",
    "plt.show()\n",
    "fig.savefig(\"inter_intra_%s.png\"%tissue)"
   ]
  },
  {
   "cell_type": "code",
   "execution_count": null,
   "metadata": {},
   "outputs": [],
   "source": [
    "for i, inter_g in enumerate(inter):\n",
    "    if((np.abs(intra[i])<1) & (inter_g<10 and inter_g>8)):\n",
    "        print(df.index[i])"
   ]
  },
  {
   "cell_type": "code",
   "execution_count": null,
   "metadata": {},
   "outputs": [],
   "source": []
  },
  {
   "cell_type": "code",
   "execution_count": null,
   "metadata": {},
   "outputs": [],
   "source": []
  }
 ],
 "metadata": {
  "kernelspec": {
   "display_name": "Python 3",
   "language": "python",
   "name": "python3"
  },
  "language_info": {
   "codemirror_mode": {
    "name": "ipython",
    "version": 3
   },
   "file_extension": ".py",
   "mimetype": "text/x-python",
   "name": "python",
   "nbconvert_exporter": "python",
   "pygments_lexer": "ipython3",
   "version": "3.6.10"
  }
 },
 "nbformat": 4,
 "nbformat_minor": 4
}
